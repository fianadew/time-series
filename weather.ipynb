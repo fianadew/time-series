{
  "nbformat": 4,
  "nbformat_minor": 0,
  "metadata": {
    "colab": {
      "name": "Submission 2",
      "provenance": [],
      "authorship_tag": "ABX9TyMSpRn+rbxafKGkxj4oz1ok",
      "include_colab_link": true
    },
    "kernelspec": {
      "name": "python3",
      "display_name": "Python 3"
    },
    "language_info": {
      "name": "python"
    }
  },
  "cells": [
    {
      "cell_type": "markdown",
      "metadata": {
        "id": "view-in-github",
        "colab_type": "text"
      },
      "source": [
        "<a href=\"https://colab.research.google.com/github/fianadew/time-series/blob/main/weather.ipynb\" target=\"_parent\"><img src=\"https://colab.research.google.com/assets/colab-badge.svg\" alt=\"Open In Colab\"/></a>"
      ]
    },
    {
      "cell_type": "markdown",
      "metadata": {
        "id": "MJGop64QhE4O"
      },
      "source": [
        "SUBMISSION 2 PENGEMBANGAN MACHINE LEARNING"
      ]
    },
    {
      "cell_type": "markdown",
      "metadata": {
        "id": "3S7SwAmphIwN"
      },
      "source": [
        "NAMA : FIANA DEWI"
      ]
    },
    {
      "cell_type": "code",
      "metadata": {
        "id": "ayW5b9yMhLH1"
      },
      "source": [
        "import os\n",
        "import re\n",
        "import datetime\n",
        "import numpy as np\n",
        "import pandas as pd\n",
        "import tensorflow as tf\n",
        "import missingno as msno\n",
        "from google.colab import drive\n",
        "import matplotlib.pyplot as plt\n",
        "from sklearn import preprocessing\n",
        "from sklearn.model_selection import train_test_split\n",
        "from tensorflow.keras.preprocessing.text import Tokenizer\n",
        "from tensorflow.keras.preprocessing.sequence import pad_sequences\n",
        "from tensorflow.keras.layers import LSTM,Dense,Bidirectional,Dropout\n"
      ],
      "execution_count": null,
      "outputs": []
    },
    {
      "cell_type": "code",
      "metadata": {
        "colab": {
          "base_uri": "https://localhost:8080/"
        },
        "id": "udoGHbJhpuOh",
        "outputId": "dae0633a-dd86-4840-aad2-e6339805922b"
      },
      "source": [
        "drive.mount('/content/drive/')"
      ],
      "execution_count": null,
      "outputs": [
        {
          "output_type": "stream",
          "text": [
            "Drive already mounted at /content/drive/; to attempt to forcibly remount, call drive.mount(\"/content/drive/\", force_remount=True).\n"
          ],
          "name": "stdout"
        }
      ]
    },
    {
      "cell_type": "code",
      "metadata": {
        "id": "FQ0gPHchpw0Z"
      },
      "source": [
        "#Membaca file csv train\n",
        "df = pd.read_csv(\"/content/drive/My Drive/testset.csv\", parse_dates=['datetime_utc'])"
      ],
      "execution_count": null,
      "outputs": []
    },
    {
      "cell_type": "code",
      "metadata": {
        "colab": {
          "base_uri": "https://localhost:8080/",
          "height": 204
        },
        "id": "9236-J9ky3xN",
        "outputId": "ab6f32d8-2426-4c7a-bf79-356435ef0129"
      },
      "source": [
        "#Kolom yang digunakan hanya beberapa saja dan 50000 baris\n",
        "weather_df = df.loc[50000:,['datetime_utc', ' _hum', ' _tempm']]\n",
        "weather_df.head()"
      ],
      "execution_count": null,
      "outputs": [
        {
          "output_type": "execute_result",
          "data": {
            "text/html": [
              "<div>\n",
              "<style scoped>\n",
              "    .dataframe tbody tr th:only-of-type {\n",
              "        vertical-align: middle;\n",
              "    }\n",
              "\n",
              "    .dataframe tbody tr th {\n",
              "        vertical-align: top;\n",
              "    }\n",
              "\n",
              "    .dataframe thead th {\n",
              "        text-align: right;\n",
              "    }\n",
              "</style>\n",
              "<table border=\"1\" class=\"dataframe\">\n",
              "  <thead>\n",
              "    <tr style=\"text-align: right;\">\n",
              "      <th></th>\n",
              "      <th>datetime_utc</th>\n",
              "      <th>_hum</th>\n",
              "      <th>_tempm</th>\n",
              "    </tr>\n",
              "  </thead>\n",
              "  <tbody>\n",
              "    <tr>\n",
              "      <th>50000</th>\n",
              "      <td>2003-10-21 05:00:00</td>\n",
              "      <td>42.0</td>\n",
              "      <td>28.0</td>\n",
              "    </tr>\n",
              "    <tr>\n",
              "      <th>50001</th>\n",
              "      <td>2003-10-21 05:30:00</td>\n",
              "      <td>40.0</td>\n",
              "      <td>29.0</td>\n",
              "    </tr>\n",
              "    <tr>\n",
              "      <th>50002</th>\n",
              "      <td>2003-10-21 06:00:00</td>\n",
              "      <td>37.0</td>\n",
              "      <td>30.0</td>\n",
              "    </tr>\n",
              "    <tr>\n",
              "      <th>50003</th>\n",
              "      <td>2003-10-21 06:30:00</td>\n",
              "      <td>35.0</td>\n",
              "      <td>31.0</td>\n",
              "    </tr>\n",
              "    <tr>\n",
              "      <th>50004</th>\n",
              "      <td>2003-10-21 06:53:00</td>\n",
              "      <td>33.0</td>\n",
              "      <td>31.0</td>\n",
              "    </tr>\n",
              "  </tbody>\n",
              "</table>\n",
              "</div>"
            ],
            "text/plain": [
              "             datetime_utc   _hum   _tempm\n",
              "50000 2003-10-21 05:00:00   42.0     28.0\n",
              "50001 2003-10-21 05:30:00   40.0     29.0\n",
              "50002 2003-10-21 06:00:00   37.0     30.0\n",
              "50003 2003-10-21 06:30:00   35.0     31.0\n",
              "50004 2003-10-21 06:53:00   33.0     31.0"
            ]
          },
          "metadata": {
            "tags": []
          },
          "execution_count": 108
        }
      ]
    },
    {
      "cell_type": "code",
      "metadata": {
        "colab": {
          "base_uri": "https://localhost:8080/"
        },
        "id": "Lqm0E0M60Iyd",
        "outputId": "5bda06f4-78e9-41d5-c539-9144f4df4022"
      },
      "source": [
        "#Mengecek missing values\n",
        "weather_df.isnull().sum()"
      ],
      "execution_count": null,
      "outputs": [
        {
          "output_type": "execute_result",
          "data": {
            "text/plain": [
              "datetime_utc      0\n",
              " _hum           243\n",
              " _tempm         199\n",
              "dtype: int64"
            ]
          },
          "metadata": {
            "tags": []
          },
          "execution_count": 109
        }
      ]
    },
    {
      "cell_type": "code",
      "metadata": {
        "colab": {
          "base_uri": "https://localhost:8080/"
        },
        "id": "oHUcP0Tmh2AZ",
        "outputId": "1dd4ddef-3e27-4e63-a636-46e5665ba85d"
      },
      "source": [
        "#menghapus data missing values\n",
        "weather_df.dropna(inplace=True)\n",
        "weather_df.isnull().sum()"
      ],
      "execution_count": null,
      "outputs": [
        {
          "output_type": "execute_result",
          "data": {
            "text/plain": [
              "datetime_utc    0\n",
              " _hum           0\n",
              " _tempm         0\n",
              "dtype: int64"
            ]
          },
          "metadata": {
            "tags": []
          },
          "execution_count": 110
        }
      ]
    },
    {
      "cell_type": "code",
      "metadata": {
        "colab": {
          "base_uri": "https://localhost:8080/"
        },
        "id": "q-aidDGdjXYB",
        "outputId": "689b6fa3-e152-44c5-d04d-8556ec670566"
      },
      "source": [
        "#melihat bentuk data\n",
        "weather_df.shape"
      ],
      "execution_count": null,
      "outputs": [
        {
          "output_type": "execute_result",
          "data": {
            "text/plain": [
              "(50747, 3)"
            ]
          },
          "metadata": {
            "tags": []
          },
          "execution_count": 111
        }
      ]
    },
    {
      "cell_type": "code",
      "metadata": {
        "colab": {
          "base_uri": "https://localhost:8080/",
          "height": 266
        },
        "id": "jVX9BWNmvAr2",
        "outputId": "1d63eda0-16c8-4316-c975-616373c7e094"
      },
      "source": [
        "#grafik boxplot untuk melihat outlier sebelum membuang outlier\n",
        "weather_df.boxplot(column=' _tempm')\n",
        "plt.show()"
      ],
      "execution_count": null,
      "outputs": [
        {
          "output_type": "display_data",
          "data": {
            "image/png": "[encoded data removed]",
            "text/plain": [
              "<Figure size 432x288 with 1 Axes>"
            ]
          },
          "metadata": {
            "tags": [],
            "needs_background": "light"
          }
        }
      ]
    },
    {
      "cell_type": "code",
      "metadata": {
        "colab": {
          "base_uri": "https://localhost:8080/"
        },
        "id": "Rt5LC0BhSA8q",
        "outputId": "7857ab2f-6614-4f9c-ef38-0c46987617eb"
      },
      "source": [
        "#Mendeteksi outlier temperature\n",
        "mean_temp, std_temp = weather_df[' _tempm'].mean(), weather_df[' _tempm'].std()\n",
        "cut_off = std_temp * 3\n",
        "lower, upper = mean_temp - cut_off, mean_temp + cut_off\n",
        "#menghapus outlier\n",
        "weather_df.drop(weather_df[(weather_df[' _tempm'] >upper)].index, inplace=True)\n",
        "weather_df.drop(weather_df[(weather_df[' _tempm'] <lower)].index, inplace=True)\n",
        "#mengecek outlier\n",
        "outliers_temp = [x for x in weather_df[' _tempm'] if x < lower or x > upper]\n",
        "outliers_temp"
      ],
      "execution_count": null,
      "outputs": [
        {
          "output_type": "execute_result",
          "data": {
            "text/plain": [
              "[]"
            ]
          },
          "metadata": {
            "tags": []
          },
          "execution_count": 113
        }
      ]
    },
    {
      "cell_type": "code",
      "metadata": {
        "colab": {
          "base_uri": "https://localhost:8080/",
          "height": 266
        },
        "id": "pOFb6DxYshCW",
        "outputId": "24bdb613-5270-46e9-c89f-727b396a3ce2"
      },
      "source": [
        "#grafik boxplot untuk melihat outlier setelah membuang outlier\n",
        "weather_df.boxplot(column=' _tempm')\n",
        "plt.show()"
      ],
      "execution_count": null,
      "outputs": [
        {
          "output_type": "display_data",
          "data": {
            "image/png": "[encoded data removed]",
            "text/plain": [
              "<Figure size 432x288 with 1 Axes>"
            ]
          },
          "metadata": {
            "tags": [],
            "needs_background": "light"
          }
        }
      ]
    },
    {
      "cell_type": "code",
      "metadata": {
        "colab": {
          "base_uri": "https://localhost:8080/",
          "height": 111
        },
        "id": "OEvTK-h7tQiJ",
        "outputId": "a9b73b7b-02bd-4c98-b65f-e6bbed74d2f0"
      },
      "source": [
        "#melihat describe dari data\n",
        "weather_df.describe().transpose()"
      ],
      "execution_count": null,
      "outputs": [
        {
          "output_type": "execute_result",
          "data": {
            "text/html": [
              "<div>\n",
              "<style scoped>\n",
              "    .dataframe tbody tr th:only-of-type {\n",
              "        vertical-align: middle;\n",
              "    }\n",
              "\n",
              "    .dataframe tbody tr th {\n",
              "        vertical-align: top;\n",
              "    }\n",
              "\n",
              "    .dataframe thead th {\n",
              "        text-align: right;\n",
              "    }\n",
              "</style>\n",
              "<table border=\"1\" class=\"dataframe\">\n",
              "  <thead>\n",
              "    <tr style=\"text-align: right;\">\n",
              "      <th></th>\n",
              "      <th>count</th>\n",
              "      <th>mean</th>\n",
              "      <th>std</th>\n",
              "      <th>min</th>\n",
              "      <th>25%</th>\n",
              "      <th>50%</th>\n",
              "      <th>75%</th>\n",
              "      <th>max</th>\n",
              "    </tr>\n",
              "  </thead>\n",
              "  <tbody>\n",
              "    <tr>\n",
              "      <th>_hum</th>\n",
              "      <td>50745.0</td>\n",
              "      <td>57.561553</td>\n",
              "      <td>24.478967</td>\n",
              "      <td>4.0</td>\n",
              "      <td>37.0</td>\n",
              "      <td>58.0</td>\n",
              "      <td>78.0</td>\n",
              "      <td>243.0</td>\n",
              "    </tr>\n",
              "    <tr>\n",
              "      <th>_tempm</th>\n",
              "      <td>50745.0</td>\n",
              "      <td>24.988984</td>\n",
              "      <td>8.551071</td>\n",
              "      <td>1.0</td>\n",
              "      <td>18.0</td>\n",
              "      <td>26.0</td>\n",
              "      <td>31.0</td>\n",
              "      <td>46.0</td>\n",
              "    </tr>\n",
              "  </tbody>\n",
              "</table>\n",
              "</div>"
            ],
            "text/plain": [
              "           count       mean        std  min   25%   50%   75%    max\n",
              " _hum    50745.0  57.561553  24.478967  4.0  37.0  58.0  78.0  243.0\n",
              " _tempm  50745.0  24.988984   8.551071  1.0  18.0  26.0  31.0   46.0"
            ]
          },
          "metadata": {
            "tags": []
          },
          "execution_count": 115
        }
      ]
    },
    {
      "cell_type": "code",
      "metadata": {
        "colab": {
          "base_uri": "https://localhost:8080/"
        },
        "id": "-Da-37XhtVt4",
        "outputId": "39dc894e-bc8f-439a-ade3-4fc739b40973"
      },
      "source": [
        "#menghitung maksimal mae yang ditentukan yaitu < 10%\n",
        "max_mae = (46.0 - 1.0)*0.1\n",
        "max_mae"
      ],
      "execution_count": null,
      "outputs": [
        {
          "output_type": "execute_result",
          "data": {
            "text/plain": [
              "4.5"
            ]
          },
          "metadata": {
            "tags": []
          },
          "execution_count": 116
        }
      ]
    },
    {
      "cell_type": "code",
      "metadata": {
        "colab": {
          "base_uri": "https://localhost:8080/",
          "height": 282
        },
        "id": "Kul9JKhPjt8u",
        "outputId": "1f54ddb0-b500-4a27-c5db-7634da3cb0fa"
      },
      "source": [
        "#membuat graik\n",
        "weather = weather_df[' _tempm'].values\n",
        "datetime = weather_df['datetime_utc'].values\n",
        "plt.plot( datetime, weather)"
      ],
      "execution_count": null,
      "outputs": [
        {
          "output_type": "execute_result",
          "data": {
            "text/plain": [
              "[<matplotlib.lines.Line2D at 0x7fa478eb3650>]"
            ]
          },
          "metadata": {
            "tags": []
          },
          "execution_count": 117
        },
        {
          "output_type": "display_data",
          "data": {
            "image/png": "[encoded data removed]",
            "text/plain": [
              "<Figure size 432x288 with 1 Axes>"
            ]
          },
          "metadata": {
            "tags": [],
            "needs_background": "light"
          }
        }
      ]
    },
    {
      "cell_type": "code",
      "metadata": {
        "colab": {
          "base_uri": "https://localhost:8080/"
        },
        "id": "jwdmtCdU_BE8",
        "outputId": "5e65c043-0af7-488b-fab3-d443a89fc17d"
      },
      "source": [
        "#mengubah tipe data menjadi float\n",
        "weather = weather.astype('float32')\n",
        "weather.reshape(-1, 1)"
      ],
      "execution_count": null,
      "outputs": [
        {
          "output_type": "execute_result",
          "data": {
            "text/plain": [
              "array([[28.],\n",
              "       [29.],\n",
              "       [30.],\n",
              "       ...,\n",
              "       [36.],\n",
              "       [32.],\n",
              "       [30.]], dtype=float32)"
            ]
          },
          "metadata": {
            "tags": []
          },
          "execution_count": 118
        }
      ]
    },
    {
      "cell_type": "code",
      "metadata": {
        "id": "3Oa51_ip3rZG"
      },
      "source": [
        "x_train, x_valid, y_train, y_valid = train_test_split(weather, datetime, test_size = 0.2, shuffle = False )"
      ],
      "execution_count": null,
      "outputs": []
    },
    {
      "cell_type": "code",
      "metadata": {
        "id": "TJT_jZKigfgv"
      },
      "source": [
        "#window \n",
        "def windowed_dataset(series, window_size, batch_size, shuffle_buffer):\n",
        "    series = tf.expand_dims(series, axis=-1)\n",
        "    ds = tf.data.Dataset.from_tensor_slices(series)\n",
        "    ds = ds.window(window_size + 1, shift=1, drop_remainder=True)\n",
        "    ds = ds.flat_map(lambda w: w.batch(window_size + 1))\n",
        "    ds = ds.shuffle(shuffle_buffer)\n",
        "    ds = ds.map(lambda w: (w[:-1], w[-1:]))\n",
        "    return ds.batch(batch_size).prefetch(1)"
      ],
      "execution_count": null,
      "outputs": []
    },
    {
      "cell_type": "code",
      "metadata": {
        "id": "URNDcD3njlW2"
      },
      "source": [
        "#memasukkan nilai fungsi\n",
        "train_set = windowed_dataset(x_train, window_size=20, batch_size=200, shuffle_buffer=1000)\n",
        "test_set = windowed_dataset(x_valid, window_size=20, batch_size=200, shuffle_buffer=1000)"
      ],
      "execution_count": null,
      "outputs": []
    },
    {
      "cell_type": "code",
      "metadata": {
        "id": "pNzj7dsri0-9"
      },
      "source": [
        "#membuat pemodelan sequential\n",
        "model = tf.keras.models.Sequential([\n",
        "  tf.keras.layers.LSTM(60, return_sequences=True),\n",
        "  tf.keras.layers.LSTM(60),\n",
        "  tf.keras.layers.Dense(30, activation=\"relu\"),\n",
        "  tf.keras.layers.Dense(10, activation=\"relu\"),\n",
        "  tf.keras.layers.Dense(1),\n",
        "])"
      ],
      "execution_count": null,
      "outputs": []
    },
    {
      "cell_type": "code",
      "metadata": {
        "colab": {
          "base_uri": "https://localhost:8080/"
        },
        "id": "cOz0pMMxk2Mh",
        "outputId": "1ea846e2-c2d1-4df5-c196-261f9dc90534"
      },
      "source": [
        "#membuat fungsi compile optimizer dan loss\n",
        "optimizer = tf.keras.optimizers.SGD(lr=1.0000e-04, momentum=0.9)\n",
        "model.compile(loss=tf.keras.losses.Huber(),\n",
        "              optimizer=optimizer,\n",
        "              metrics=[\"mae\"])"
      ],
      "execution_count": null,
      "outputs": [
        {
          "output_type": "stream",
          "text": [
            "/usr/local/lib/python3.7/dist-packages/tensorflow/python/keras/optimizer_v2/optimizer_v2.py:375: UserWarning: The `lr` argument is deprecated, use `learning_rate` instead.\n",
            "  \"The `lr` argument is deprecated, use `learning_rate` instead.\")\n"
          ],
          "name": "stderr"
        }
      ]
    },
    {
      "cell_type": "code",
      "metadata": {
        "id": "M-VXYdyxuOSz"
      },
      "source": [
        "#membuat callbacks\n",
        "#class myCallback(tf.keras.callbacks.Callback):\n",
        "  #def on_epoch_end(self, epoch, logs={}):\n",
        "   # if(logs.get('mae')< max_mae and logs.get('val_mae')<max_mae):\n",
        "    #  print(\"\\nMAE dari model < 10% skala data\")\n",
        "     # self.model.stop_training = True\n",
        "#callbacks = myCallback()"
      ],
      "execution_count": null,
      "outputs": []
    },
    {
      "cell_type": "code",
      "metadata": {
        "colab": {
          "base_uri": "https://localhost:8080/"
        },
        "id": "4yy1Ou6jlLcQ",
        "outputId": "333f471f-38a5-4159-e224-293e96fbc6a0"
      },
      "source": [
        "history = model.fit(train_set, epochs=10, validation_data = test_set)"
      ],
      "execution_count": null,
      "outputs": [
        {
          "output_type": "stream",
          "text": [
            "Epoch 1/10\n",
            "203/203 [==============================] - 24s 98ms/step - loss: 23.1088 - mae: 23.6088 - val_loss: 22.9927 - val_mae: 23.4927\n",
            "Epoch 2/10\n",
            "203/203 [==============================] - 19s 91ms/step - loss: 12.9141 - mae: 13.4071 - val_loss: 5.9495 - val_mae: 6.4340\n",
            "Epoch 3/10\n",
            "203/203 [==============================] - 19s 91ms/step - loss: 6.0845 - mae: 6.5678 - val_loss: 4.6488 - val_mae: 5.1336\n",
            "Epoch 4/10\n",
            "203/203 [==============================] - 18s 90ms/step - loss: 3.4012 - mae: 3.8728 - val_loss: 3.3203 - val_mae: 3.7986\n",
            "Epoch 5/10\n",
            "203/203 [==============================] - 19s 91ms/step - loss: 3.1929 - mae: 3.6614 - val_loss: 3.2103 - val_mae: 3.6871\n",
            "Epoch 6/10\n",
            "203/203 [==============================] - 19s 91ms/step - loss: 2.9665 - mae: 3.4317 - val_loss: 3.1438 - val_mae: 3.6182\n",
            "Epoch 7/10\n",
            "203/203 [==============================] - 19s 91ms/step - loss: 2.8595 - mae: 3.3224 - val_loss: 3.1565 - val_mae: 3.6292\n",
            "Epoch 8/10\n",
            "203/203 [==============================] - 18s 90ms/step - loss: 2.7967 - mae: 3.2592 - val_loss: 2.9429 - val_mae: 3.4158\n",
            "Epoch 9/10\n",
            "203/203 [==============================] - 18s 90ms/step - loss: 2.7176 - mae: 3.1775 - val_loss: 2.9875 - val_mae: 3.4582\n",
            "Epoch 10/10\n",
            "203/203 [==============================] - 18s 90ms/step - loss: 2.6561 - mae: 3.1149 - val_loss: 2.9025 - val_mae: 3.3722\n"
          ],
          "name": "stdout"
        }
      ]
    },
    {
      "cell_type": "code",
      "metadata": {
        "colab": {
          "base_uri": "https://localhost:8080/",
          "height": 296
        },
        "id": "nY-DoRtzSwqC",
        "outputId": "908766df-dc38-419d-88da-7cc7984d825f"
      },
      "source": [
        "#membuat plotting grafik loss\n",
        "loss = history.history['loss']\n",
        "val_loss = history.history['val_loss']\n",
        "plt.plot(loss)\n",
        "plt.plot(val_loss)\n",
        "plt.xlabel('Epochs')\n",
        "plt.ylabel('Loss')\n",
        "plt.legend()\n",
        "plt.show()\n"
      ],
      "execution_count": null,
      "outputs": [
        {
          "output_type": "stream",
          "text": [
            "No handles with labels found to put in legend.\n"
          ],
          "name": "stderr"
        },
        {
          "output_type": "display_data",
          "data": {
            "image/png": "[encoded data removed]",
            "text/plain": [
              "<Figure size 432x288 with 1 Axes>"
            ]
          },
          "metadata": {
            "tags": [],
            "needs_background": "light"
          }
        }
      ]
    },
    {
      "cell_type": "code",
      "metadata": {
        "colab": {
          "base_uri": "https://localhost:8080/",
          "height": 296
        },
        "id": "KHUpgaHKS-Un",
        "outputId": "926400e0-80dd-4a91-974c-7836d1ca691a"
      },
      "source": [
        "#membuat plotting grafik mae\n",
        "mae = history.history['mae']\n",
        "val_mae = history.history['val_mae']\n",
        "plt.plot(mae)\n",
        "plt.plot(val_mae)\n",
        "plt.ylabel('Mae')\n",
        "plt.xlabel('Epochs')\n",
        "plt.legend()\n",
        "plt.show()"
      ],
      "execution_count": null,
      "outputs": [
        {
          "output_type": "stream",
          "text": [
            "No handles with labels found to put in legend.\n"
          ],
          "name": "stderr"
        },
        {
          "output_type": "display_data",
          "data": {
            "image/png": "[encoded data removed]",
            "text/plain": [
              "<Figure size 432x288 with 1 Axes>"
            ]
          },
          "metadata": {
            "tags": [],
            "needs_background": "light"
          }
        }
      ]
    }
  ]
}